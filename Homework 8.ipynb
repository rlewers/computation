{
 "cells": [
  {
   "cell_type": "code",
   "execution_count": 1,
   "id": "06a8fa9f",
   "metadata": {},
   "outputs": [],
   "source": [
    "import numpy as np\n",
    "import matplotlib.pyplot as plt\n",
    "\n",
    "from blocks_jacobians import firm \n",
    "\n",
    "from sequence_jacobian import grids, misc, interpolate\n",
    "from sequence_jacobian.blocks.support.het_support import lottery_1d\n",
    "from sequence_jacobian.utilities.solvers import newton_solver"
   ]
  },
  {
   "cell_type": "code",
   "execution_count": 2,
   "id": "dee66283",
   "metadata": {},
   "outputs": [],
   "source": [
    "# Variables\n",
    "K = {'K'}\n",
    "U = {'U'}\n",
    "Y = {'A', 'Y', 'r', 'w'}\n",
    "\n",
    "# Jacobians\n",
    "\n",
    "\n",
    "# parameters\n",
    "eis = 1\n",
    "delta = 0.025\n",
    "alpha = 0.11\n",
    "rho_e = 0.966\n",
    "sd_e = 0.5\n",
    "r = 0.01\n",
    "Y = 1\n",
    "L = 1.0\n",
    "nE = 7\n",
    "nA = 500\n",
    "amin = 0\n",
    "amax = 200\n",
    "T = 100\n",
    "calib = {'eis': eis, 'delta': delta, 'alpha': alpha, 'rho_e': rho_e, 'sd_e': sd_e, 'L': L, 'nE': nE, 'nA': nA, 'amin': amin, 'amax': amax}"
   ]
  },
  {
   "cell_type": "code",
   "execution_count": 3,
   "id": "7e5fa6a4",
   "metadata": {},
   "outputs": [
    {
     "name": "stdout",
     "output_type": "stream",
     "text": [
      "{'r': 0.01, 'Y': 1, 'L': 1.0, 'w': 0.89, 'K': 3.142857142857143, 'A': 3.142857142857143, 'C': 0.9214285714285715, 'Z': 0.8816460975214567}\n"
     ]
    }
   ],
   "source": [
    "# known steady state values\n",
    "ss = {}\n",
    "ss['r'] = r\n",
    "ss['Y'] = Y\n",
    "ss['L'] = L\n",
    "ss['w'] = (1 - alpha) * ss['Y'] / ss['L']\n",
    "ss['K'] = alpha * ss['Y'] / (ss['r'] + delta)\n",
    "ss['A'] = ss['K']\n",
    "ss['C'] = ss['Y'] - delta * ss['K']\n",
    "ss['Z'] = ss['Y'] / (ss['K'] ** alpha * ss['L'] ** (1 - alpha))\n",
    "\n",
    "print(ss)"
   ]
  },
  {
   "cell_type": "code",
   "execution_count": 4,
   "id": "17b5bf16",
   "metadata": {},
   "outputs": [],
   "source": [
    "# grids and initial conditions\n",
    "e_grid, _, Pi = grids.markov_rouwenhorst(rho=rho_e, sigma=sd_e, N=nE)\n",
    "a_grid = grids.agrid(amin=amin, amax=amax, n=nA)"
   ]
  },
  {
   "cell_type": "code",
   "execution_count": 5,
   "id": "8e91d3e9",
   "metadata": {},
   "outputs": [],
   "source": [
    "# analytical Jacobians from firm block\n",
    "J = firm(calib, ss, T)"
   ]
  },
  {
   "cell_type": "code",
   "execution_count": 6,
   "id": "706945e7",
   "metadata": {},
   "outputs": [],
   "source": [
    "# define backward step\n",
    "def backward_step(Va_p, Pi, a_grid, e_grid, r, w, beta, eis):\n",
    "    uc_nextgrid = beta * (Pi @ Va_p)\n",
    "    c_nextgrid = uc_nextgrid ** (-eis)\n",
    "    coh = (1 + r) * a_grid[np.newaxis, :] + w * e_grid[:, np.newaxis]\n",
    "    a = interpolate.interpolate_y(c_nextgrid + a_grid, coh, a_grid)\n",
    "    misc.setmin(a, a_grid[0])\n",
    "    c = coh - a\n",
    "    Va = (1 + r) * c ** (-1 / eis)\n",
    "    return Va, a, c\n",
    "\n",
    "# steady state solver\n",
    "def solve_steady_state_policy(Va0, Pi, a_grid, e_grid, r, w, beta, eis):\n",
    "    Va = Va0\n",
    "    for n in range(10000):\n",
    "        Va, a, c = backward_step(Va, Pi, a_grid, e_grid, r, w, beta, eis)\n",
    "        if np.max(np.abs(Va - Va0)) < 1e-8:\n",
    "            print(f'Converged after {n} iterations')\n",
    "            break\n",
    "        Va0 = Va\n",
    "    return Va, a, c\n",
    "\n",
    "# computes the transition matrix based on policy function for assets\n",
    "def compute_transition_matrix(a, a_grid, e_grid, Pi):\n",
    "    nE = e_grid.shape[0]\n",
    "    nA = a_grid.shape[0]\n",
    "\n",
    "    # deterministic lottery allocation\n",
    "    lottery = lottery_1d(a, a_grid, monotonic=False)\n",
    "\n",
    "    # transition matrix built from lottery\n",
    "    Lambda = np.zeros((nE, nA, nE, nA))\n",
    "    for i in range(nE):\n",
    "        for j in range(nA):\n",
    "            Lambda[i, j, :, lottery.i[i, j]] = Pi[i, :] * lottery.pi[i, j]\n",
    "            Lambda[i, j, :, lottery.i[i, j] + 1] = Pi[i, :] * (1 - lottery.pi[i, j])\n",
    "\n",
    "    # matrix form to compute transition matrix\n",
    "    Lambda = Lambda.reshape(nA * nE, nA * nE)\n",
    "\n",
    "    return Lambda\n",
    "\n",
    "# iterates on the distribution until convergence\n",
    "def compute_steady_state_distribution(a, a_grid, e_grid, Pi):\n",
    "\n",
    "    Lambda = compute_transition_matrix(a, a_grid, e_grid, Pi)\n",
    "\n",
    "    nE = e_grid.shape[0]\n",
    "    nA = a_grid.shape[0]\n",
    "\n",
    "    D = np.ones(nE * nA) / (nE * nA)\n",
    "    for n in range(10000):\n",
    "        D = Lambda.T @ D\n",
    "        if np.max(np.abs(D - D @ Lambda)) < 1e-8:\n",
    "            D = D.reshape(nE, nA)\n",
    "            print(f'Converged after {n} iterations')\n",
    "            break\n",
    "    return D, Lambda\n"
   ]
  },
  {
   "cell_type": "code",
   "execution_count": 7,
   "id": "0decd8d5",
   "metadata": {},
   "outputs": [
    {
     "name": "stdout",
     "output_type": "stream",
     "text": [
      "Converged after 361 iterations\n",
      "Converged after 513 iterations\n",
      "Converged after 361 iterations\n",
      "Converged after 513 iterations\n",
      "On iteration 0\n",
      "x = 0.981\n",
      "y = -0.554\n",
      "\n",
      "\n",
      "Converged after 362 iterations\n",
      "Converged after 513 iterations\n",
      "Converged after 391 iterations\n",
      "Converged after 568 iterations\n",
      "On iteration 1\n",
      "x = 0.982\n",
      "y = 0.080\n",
      "\n",
      "\n",
      "Converged after 391 iterations\n",
      "Converged after 569 iterations\n",
      "Converged after 387 iterations\n",
      "Converged after 561 iterations\n",
      "On iteration 2\n",
      "x = 0.982\n",
      "y = 0.001\n",
      "\n",
      "\n",
      "Converged after 388 iterations\n",
      "Converged after 562 iterations\n",
      "Converged after 387 iterations\n",
      "Converged after 561 iterations\n",
      "On iteration 3\n",
      "x = 0.982\n",
      "y = 0.000\n",
      "\n",
      "\n",
      "Converged after 388 iterations\n",
      "Converged after 562 iterations\n",
      "Converged after 387 iterations\n",
      "Converged after 561 iterations\n",
      "On iteration 4\n",
      "x = 0.982\n",
      "y = 0.000\n",
      "\n",
      "\n",
      "Converged after 388 iterations\n",
      "Converged after 562 iterations\n",
      "Converged after 387 iterations\n",
      "Converged after 561 iterations\n",
      "On iteration 5\n",
      "x = 0.982\n",
      "y = 0.000\n",
      "\n",
      "\n",
      "[0.98195277]\n",
      "Converged after 387 iterations\n",
      "Converged after 561 iterations\n"
     ]
    }
   ],
   "source": [
    "# solve for beta such that asset demand is at steady state\n",
    "coh = (1 + r) * a_grid[np.newaxis, :] + ss['w'] * e_grid[:, np.newaxis]\n",
    "Va0 = (1 + r) * (0.1 * coh) ** (-1 / eis)\n",
    "\n",
    "beta = 0.981\n",
    "Va, a, c = solve_steady_state_policy(Va0, Pi, a_grid, e_grid, ss['r'], ss['w'], beta, eis)\n",
    "D, Lambda = compute_steady_state_distribution(a, a_grid, e_grid, Pi)\n",
    "\n",
    "# find beta that solves the market clearing problem in steady state\n",
    "def objective(beta):\n",
    "    Va, a, c = solve_steady_state_policy(Va0, Pi, a_grid, e_grid, ss['r'], ss['w'], beta, eis)\n",
    "    D, Lambda = compute_steady_state_distribution(a, a_grid, e_grid, Pi)\n",
    "    A = np.sum(D @ a_grid)\n",
    "    return np.array([A - ss['A']])\n",
    "\n",
    "beta, feval = newton_solver(objective, np.array([beta]))\n",
    "\n",
    "print(beta)\n",
    "\n",
    "calib['beta'] = beta\n",
    "\n",
    "Va, a, c = solve_steady_state_policy(Va0, Pi, a_grid, e_grid, ss['r'], ss['w'], calib['beta'], eis)\n",
    "D, Lambda = compute_steady_state_distribution(a, a_grid, e_grid, Pi)\n",
    "\n",
    "ss['Va'] = Va\n",
    "ss['a'] = a\n",
    "ss['c'] = c\n",
    "ss['D'] = D\n",
    "ss['Lambda'] = Lambda"
   ]
  },
  {
   "cell_type": "code",
   "execution_count": 10,
   "id": "d4d26bad",
   "metadata": {},
   "outputs": [
    {
     "name": "stdout",
     "output_type": "stream",
     "text": [
      "[[3.04668874 0.68121929 0.64057987 ... 0.0074574  0.00710683 0.        ]\n",
      " [0.         0.         0.         ... 0.         0.         0.        ]\n",
      " [0.         0.         0.         ... 0.         0.         0.        ]\n",
      " ...\n",
      " [0.         0.         0.         ... 0.         0.         0.        ]\n",
      " [0.         0.         0.         ... 0.         0.         0.        ]\n",
      " [0.         0.         0.         ... 0.         0.         0.        ]]\n"
     ]
    }
   ],
   "source": [
    "# define r sequence for a shock in T\n",
    "dx = 1e-3\n",
    "dA_seq = np.zeros(T,)\n",
    "dr_seq = np.zeros(T + 1,)\n",
    "dr_seq[T] = dx\n",
    "\n",
    "# solve backward step starting at T + 1\n",
    "Va_p_fn =  np.zeros((nE, nA, T + 1))\n",
    "Va_p_fn[:,:,T ] = ss['Va']\n",
    "a_seq_fn = np.zeros((nE, nA, T + 1))\n",
    "for t in range(T, -1, -1):\n",
    "    Va_p_fn[:,:,t-1], a_seq_fn[:, :, t], c = backward_step(Va_p_fn[:,:,t], Pi, a_grid, e_grid, ss['r'] + dr_seq[t], ss['w'], calib['beta'], eis)\n",
    "    \n",
    "FNM=np.zeros(( T + 1, T + 1 ))    \n",
    "dD=np.zeros(( nE * nA , T + 1 ))\n",
    "\n",
    "#Compute the first row of responses: \n",
    "    #they start with ss distribution, change policy functions in response to shock, aggregates change\n",
    "for s in range(0, T, 1):\n",
    "    #Start from ss distribution\n",
    "    D = ss['D']\n",
    "    #Policy function changes as you learn about the shock (T-s) periods ahead\n",
    "    Lambda = compute_transition_matrix(a_seq_fn[:, :, T-s], a_grid, e_grid, Pi) # compute transition matrix\n",
    "    D = Lambda.T @ ss['D'].reshape(nE * nA,) # compute new distribution given the transition matrix and starting from ss distribution\n",
    "    FNM[0,s] = (np.sum(D.reshape(nE, nA) @ a_grid) - ss['A']) / dx\n",
    "    dD[:,s] = D - ss['D'].reshape(nE * nA,)\n",
    "\n",
    "    \n",
    "print(FNM)\n"
   ]
  },
  {
   "cell_type": "code",
   "execution_count": 109,
   "id": "37d1b828",
   "metadata": {},
   "outputs": [],
   "source": [
    "#Compute the rest of FNM\n",
    "\n",
    "for t in range(1, T+1, 1):\n",
    "    policyfn=ss['a'].reshape(nE * nA,)\n",
    "    lambda_tm1=np.linalg.matrix_power(ss['Lambda'],t-1)\n",
    "    epsilon_tm1= lambda_tm1 @ policyfn\n",
    "    FNM[t,:]= (epsilon_tm1.T @  dD ) / dx\n",
    "    \n",
    "    "
   ]
  },
  {
   "cell_type": "code",
   "execution_count": 111,
   "id": "b16aefcf",
   "metadata": {},
   "outputs": [
    {
     "data": {
      "image/png": "[encoded data removed]",
      "text/plain": [
       "<Figure size 640x480 with 1 Axes>"
      ]
     },
     "metadata": {},
     "output_type": "display_data"
    }
   ],
   "source": [
    "#Making the jacobian:\n",
    "J=np.zeros(( T , T  ))    \n",
    "for t in range(0, T, 1):\n",
    "    for s in range(0, T, 1):\n",
    "        min_val = min(t, s)\n",
    "        J[t, s] = sum(FNM[t - k, s - k] for k in range(min_val + 1))\n",
    "\n",
    "# plor IRF of assets and interest rate\n",
    "plt.figure()\n",
    "plt.plot(J[:, 0])\n",
    "plt.xlabel('Time')\n",
    "plt.ylabel('Assets')\n",
    "plt.show()\n",
    "\n"
   ]
  },
  {
   "cell_type": "code",
   "execution_count": null,
   "id": "e69e7af8",
   "metadata": {},
   "outputs": [],
   "source": []
  }
 ],
 "metadata": {
  "kernelspec": {
   "display_name": "Python 3 (ipykernel)",
   "language": "python",
   "name": "python3"
  },
  "language_info": {
   "codemirror_mode": {
    "name": "ipython",
    "version": 3
   },
   "file_extension": ".py",
   "mimetype": "text/x-python",
   "name": "python",
   "nbconvert_exporter": "python",
   "pygments_lexer": "ipython3",
   "version": "3.11.4"
  }
 },
 "nbformat": 4,
 "nbformat_minor": 5
}
